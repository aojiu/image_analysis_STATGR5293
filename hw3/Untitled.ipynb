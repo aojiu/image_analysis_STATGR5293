{
 "cells": [
  {
   "cell_type": "code",
   "execution_count": 100,
   "metadata": {
    "scrolled": true
   },
   "outputs": [
    {
     "name": "stdout",
     "output_type": "stream",
     "text": [
      "Requirement already satisfied: lightgbm in /Users/aojiu/anaconda3/envs/transformers/lib/python3.7/site-packages (3.1.0)\r\n",
      "Requirement already satisfied: numpy in /Users/aojiu/anaconda3/envs/transformers/lib/python3.7/site-packages (from lightgbm) (1.18.1)\r\n",
      "Requirement already satisfied: scikit-learn!=0.22.0 in /Users/aojiu/anaconda3/envs/transformers/lib/python3.7/site-packages (from lightgbm) (0.22.2.post1)\r\n",
      "Requirement already satisfied: scipy in /Users/aojiu/anaconda3/envs/transformers/lib/python3.7/site-packages (from lightgbm) (1.4.1)\r\n",
      "Requirement already satisfied: joblib>=0.11 in /Users/aojiu/anaconda3/envs/transformers/lib/python3.7/site-packages (from scikit-learn!=0.22.0->lightgbm) (0.14.1)\r\n"
     ]
    }
   ],
   "source": [
    "import numpy as np\n",
    "import pandas as pd\n",
    "from scipy import io\n",
    "from sklearn.decomposition import PCA\n",
    "from sklearn.svm import SVC\n",
    "from sklearn.model_selection import train_test_split\n",
    "from sklearn.model_selection import KFold\n",
    "from sklearn.model_selection import GridSearchCV\n",
    "from sklearn.ensemble import GradientBoostingClassifier\n",
    "from sklearn.metrics import accuracy_score\n",
    "from sklearn.utils import shuffle\n",
    "from sklearn.model_selection import cross_val_score\n",
    "from sklearn.preprocessing import StandardScaler\n",
    "from sklearn.preprocessing import normalize\n",
    "# !pip install nibabel\n",
    "import nibabel as nib\n",
    "# !pip install nilearn\n",
    "from nilearn.masking import compute_epi_mask\n",
    "from nilearn.masking import compute_background_mask\n",
    "!pip install lightgbm\n",
    "import lightgbm as lgb"
   ]
  },
  {
   "cell_type": "code",
   "execution_count": 101,
   "metadata": {},
   "outputs": [],
   "source": [
    "# function to extract brain voxel area and exclude background and non-voxel area\n",
    "\n",
    "def create_mask_image(img_data, threshold):\n",
    "    # create a numpy array to store new images\n",
    "    new_image_data = np.zeros(img_data.shape)\n",
    "    # for each 30*30 image slice\n",
    "    \n",
    "    for slice_num in range(img_data.shape[2]):\n",
    "        for sample_num in range(img_data.shape[3]):\n",
    "            # apply a threshold to supress non-brain area to 0\n",
    "            # retain the original value of the brain area\n",
    "            mask_image = np.where(img_data[:,:,slice_num, sample_num] > threshold, img_data[:,:,slice_num, sample_num], 0)\n",
    "            # overwrite the new image\n",
    "            new_image_data[:,:,slice_num, sample_num]=mask_image\n",
    "    return new_image_data"
   ]
  },
  {
   "cell_type": "code",
   "execution_count": 103,
   "metadata": {},
   "outputs": [],
   "source": [
    "mask_img = compute_epi_mask('data/sub-01/ses-test/func/sub-01_ses-test_task-fingerfootlips_bold.nii')"
   ]
  },
  {
   "cell_type": "code",
   "execution_count": 106,
   "metadata": {},
   "outputs": [
    {
     "data": {
      "text/plain": [
       "17210.0"
      ]
     },
     "execution_count": 106,
     "metadata": {},
     "output_type": "execute_result"
    }
   ],
   "source": [
    "a= mask_img.get_fdata()\n",
    "np.sum(a)"
   ]
  },
  {
   "cell_type": "code",
   "execution_count": 120,
   "metadata": {
    "scrolled": false
   },
   "outputs": [],
   "source": [
    "def validation(image_file, label_file):\n",
    "    # load image from the fmri file\n",
    "    # then convert it into numpy file\n",
    "    img = nib.load('data/sub-01/ses-test/func/sub-01_ses-test_task-fingerfootlips_bold.nii')\n",
    "    img = nib.load(image_file)\n",
    "    img_data = img.get_fdata()\n",
    "    labels = io.loadmat('data/label.mat')['label']\n",
    "\n",
    "\n",
    "    # get brain mask\n",
    "    masked_image = create_mask_image(img_data, 200)\n",
    "\n",
    "    # make sure the masked images have the sampe shape as original images\n",
    "    assert(img_data.shape==masked_image.shape)\n",
    "    # reshape labels and flatten images for training\n",
    "    masked_image = masked_image.reshape(184,-1)\n",
    "    labels = labels.reshape(184,)\n",
    "    # normalize the mask images \n",
    "    masked_image = normalize(masked_image, norm='l2')\n",
    "\n",
    "    # upsample the minority classes to have better performence\n",
    "    labels=list(labels)\n",
    "    masked_image = list(masked_image)\n",
    "    for i in range(700):\n",
    "        if labels[i]!=1:\n",
    "            labels.append(labels[i])\n",
    "            masked_image.append(masked_image[i])\n",
    "\n",
    "\n",
    "    # flatten the masked image\n",
    "    labels=np.array(labels)\n",
    "    masked_image=np.array(masked_image)\n",
    "\n",
    "    # use pca to reduce training dimension of data\n",
    "    pca = PCA(n_components=90)\n",
    "    pca_train = pca.fit_transform(masked_image)\n",
    "\n",
    "    # convert the data to 0 mean and unit variance\n",
    "    scaler = StandardScaler()\n",
    "    pca_train=scaler.fit_transform(pca_train)\n",
    "\n",
    "    # use kfold to get select model\n",
    "    # shuffle the data to prevent imbalanced class to dominate\n",
    "    pca_train, labels = shuffle(pca_train, labels, random_state=43)\n",
    "\n",
    "\n",
    "    ## SVM model\n",
    "    # \n",
    "    clf_svm = SVC(kernel='rbf', C=100, gamma=\"auto\")\n",
    "    svm_scores = cross_val_score(clf_svm, pca_train, labels, cv=8)\n",
    "    avg_svm = sum(svm_scores)/len(svm_scores)\n",
    "    print(\"the average validation accuracy for svm model is: {}\".format(avg_svm))\n",
    "\n",
    "    clf_gbm = GradientBoostingClassifier(n_estimators = 200, max_depth=4, random_state=43)\n",
    "    gbm_scores = cross_val_score(clf_gbm, pca_train, labels, cv=8)\n",
    "    avg_gbm = sum(gbm_scores)/len(gbm_scores)\n",
    "    print(\"the average validation accuracy for gradient boosting model is: {}\".format(avg_gbm))\n"
   ]
  },
  {
   "cell_type": "code",
   "execution_count": 122,
   "metadata": {},
   "outputs": [
    {
     "name": "stdout",
     "output_type": "stream",
     "text": [
      "the average validation accuracy for svm model is: 0.7165661719233148\n",
      "the average validation accuracy for gradient boosting model is: 0.7089388785817357\n"
     ]
    }
   ],
   "source": [
    "image = 'data/sub-01/ses-test/func/sub-01_ses-test_task-fingerfootlips_bold.nii'\n",
    "labels = 'data/label.mat'\n",
    "validation(image, labels)"
   ]
  },
  {
   "cell_type": "code",
   "execution_count": null,
   "metadata": {},
   "outputs": [],
   "source": []
  },
  {
   "cell_type": "code",
   "execution_count": 1,
   "metadata": {},
   "outputs": [
    {
     "data": {
      "text/plain": [
       "[[[0, 0, 0], [0, 0, 0], [0, 0, 0]],\n",
       " [[0, 0, 0], [0, 0, 0], [0, 0, 0]],\n",
       " [[0, 0, 0], [0, 0, 0], [0, 0, 0]]]"
      ]
     },
     "execution_count": 1,
     "metadata": {},
     "output_type": "execute_result"
    }
   ],
   "source": [
    "[[[0 for k in range(2 + 1)] for j in range(2 + 1)] for i in range(2 + 1)]"
   ]
  },
  {
   "cell_type": "code",
   "execution_count": 3,
   "metadata": {},
   "outputs": [
    {
     "data": {
      "text/plain": [
       "array([[[0., 0., 0.],\n",
       "        [0., 0., 0.],\n",
       "        [0., 0., 0.]],\n",
       "\n",
       "       [[0., 0., 0.],\n",
       "        [0., 0., 0.],\n",
       "        [0., 0., 0.]],\n",
       "\n",
       "       [[0., 0., 0.],\n",
       "        [0., 0., 0.],\n",
       "        [0., 0., 0.]]])"
      ]
     },
     "execution_count": 3,
     "metadata": {},
     "output_type": "execute_result"
    }
   ],
   "source": [
    "import numpy as np\n",
    "np.zeros((3,3,3))"
   ]
  },
  {
   "cell_type": "code",
   "execution_count": null,
   "metadata": {},
   "outputs": [],
   "source": []
  }
 ],
 "metadata": {
  "kernelspec": {
   "display_name": "Python [conda env:transformers]",
   "language": "python",
   "name": "conda-env-transformers-py"
  },
  "language_info": {
   "codemirror_mode": {
    "name": "ipython",
    "version": 3
   },
   "file_extension": ".py",
   "mimetype": "text/x-python",
   "name": "python",
   "nbconvert_exporter": "python",
   "pygments_lexer": "ipython3",
   "version": "3.7.7"
  }
 },
 "nbformat": 4,
 "nbformat_minor": 4
}
